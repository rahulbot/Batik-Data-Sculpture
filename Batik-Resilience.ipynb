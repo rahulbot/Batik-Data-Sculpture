{
 "cells": [
  {
   "cell_type": "markdown",
   "metadata": {},
   "source": [
    "# Batik Resilience Project "
   ]
  },
  {
   "cell_type": "code",
   "execution_count": 2,
   "metadata": {},
   "outputs": [
    {
     "data": {
      "text/plain": [
       "'3.7.4'"
      ]
     },
     "execution_count": 2,
     "metadata": {},
     "output_type": "execute_result"
    }
   ],
   "source": [
    "import mediacloud, datetime, time, json, re, random, os, time, csv, mediacloud.api\n",
    "from datetime import date, timedelta\n",
    "mc = mediacloud.api.AdminMediaCloud(os.environ['MC_API_KEY'])\n",
    "mediacloud.__version__"
   ]
  },
  {
   "cell_type": "code",
   "execution_count": 7,
   "metadata": {},
   "outputs": [],
   "source": [
    "timespan = \"publish_day:[2017-01-01T00:00:00Z TO 2019-12-01T00:00:00Z]\"\n",
    "us_media = ['34412234', '38379429']\n",
    "places = {\n",
    "    'Sydney': ['34412282', '38378024'],\n",
    "    'Chennai': ['34412118', '38379954'],\n",
    "    'Florida': ['38379430'],\n",
    "    'Alaska': ['38381315'],\n",
    "    'Kenya': ['34412126', '38380260'],\n",
    "    'Singapore': ['34412474'],\n",
    "    'London': ['34412476', '38381111'],\n",
    "    'Brazil': ['34412257', '38379250'],\n",
    "    'Islands': [ '34412175', '34412204', '34412411', '38381481', '34412109', '34412204', '34412168', '34412399', '38380877', '34412137' ],\n",
    "    '\"Saudi Arabia\"': ['34412050', '38380804'],\n",
    "    # 'Argentina': ['34412043', '38376412'],\n",
    "    # 'Paris': ['34412146', '38379799'],\n",
    "    # 'Amsterdam': ['34412382', '38380454'],\n",
    "    # 'Rome': ['34412372', '38380117'],\n",
    "    # 'Milan': ['34412372', '38380117'],\n",
    "    # 'Madrid': ['34412356', '38002034'],\n",
    "    # 'Athens': ['34412477', '38379845'],\n",
    "    #'Mexico': ['34412427', '38380322'],\n",
    "    # 'Rotterdam': ['34412382', '38380454'],\n",
    "    \n",
    "}\n",
    "queries = {\n",
    "    'security': '\"security climate\"~40',\n",
    "    'resilience': '\"resilience climate\"~40',\n",
    "    'migration': '((\"migration climate\"~40) OR  (\"migrant climate\"~40) OR  (\"migrate climate\"~40)  OR  (\"immigration climate\"~40)  OR  (\"immigrate climate\"~40))'\n",
    "}"
   ]
  },
  {
   "cell_type": "markdown",
   "metadata": {},
   "source": [
    "### Compute Batik Length Data"
   ]
  },
  {
   "cell_type": "code",
   "execution_count": 262,
   "metadata": {},
   "outputs": [],
   "source": [
    "length_data = []\n",
    "for p, m in places.items():\n",
    "    for t, q in queries.items():\n",
    "        local_relevant_story_count = mc.storyCount(\"{} AND {} AND language:en AND tags_id_media:({})\".format(p,q,\" \".join(m)), solr_filter=timespan)\n",
    "        local_total_story_count = mc.storyCount(\"{} AND language:en AND tags_id_media:({})\".format(p,\" \".join(m)), solr_filter=timespan)\n",
    "        us_relevant_story_count = mc.storyCount(\"{} AND {} AND language:en AND tags_id_media:({})\".format(p,q,\" \".join(us_media)), solr_filter=timespan)\n",
    "        us_total_story_count = mc.storyCount(\"{} AND language:en AND tags_id_media:({})\".format(p,\" \".join(us_media)), solr_filter=timespan)\n",
    "        row = {\n",
    "            'place': p,\n",
    "            'topic': t,\n",
    "            'local_relevant': local_relevant_story_count['count'],\n",
    "            'local_total': local_total_story_count['count'],\n",
    "            'us_relevant': us_relevant_story_count['count'],\n",
    "            'us_total': us_total_story_count['count'],\n",
    "            'combined_relevant': local_relevant_story_count['count'] + us_relevant_story_count['count'],\n",
    "            'combined_total': local_total_story_count['count'] + us_total_story_count['count'],\n",
    "        }\n",
    "        length_data.append(row)"
   ]
  },
  {
   "cell_type": "code",
   "execution_count": 263,
   "metadata": {},
   "outputs": [],
   "source": [
    "import csv, json\n",
    "with open('batik-data/batik-length.json', 'w') as f:\n",
    "    f.write(json.dumps(length_data))\n",
    "with open('batik-data/batik-length.csv', 'w') as csvfile:\n",
    "    spamwriter = csv.writer(csvfile)\n",
    "    spamwriter = csv.DictWriter(csvfile, fieldnames=['place', 'topic', 'local_relevant', 'local_total', \n",
    "                                                    'us_relevant', 'us_total', 'combined_relevant', 'combined_total'])\n",
    "    spamwriter.writeheader()\n",
    "    for row in length_data:\n",
    "        spamwriter.writerow(row)"
   ]
  },
  {
   "cell_type": "markdown",
   "metadata": {},
   "source": [
    "### Compute Batik Themes"
   ]
  },
  {
   "cell_type": "code",
   "execution_count": null,
   "metadata": {},
   "outputs": [],
   "source": [
    "NYT_LABELS_TAG_SET_ID = 1963  # the tag set all the descriptor tags are in\n",
    "theme_data = []\n",
    "for p, m in places.items():\n",
    "    for t, q in queries.items():\n",
    "        top_themes = mc.storyTagCount(\"{} AND {} AND language:en AND tags_id_media:({})\".format(p,q,\" \".join(m)), solr_filter=timespan, tag_sets_id=NYT_LABELS_TAG_SET_ID)\n",
    "        item = {\n",
    "            'place': p,\n",
    "            'topic': t,\n",
    "            'top_themes': [{'count': tag['count'], 'name': tag['description'], 'tags_id': tag['tags_id']} for tag in top_themes]\n",
    "        }\n",
    "        theme_data.append(item)"
   ]
  },
  {
   "cell_type": "code",
   "execution_count": null,
   "metadata": {},
   "outputs": [],
   "source": [
    "import csv\n",
    "import json\n",
    "with open('batik-data/batik-themes.json', 'w') as f:\n",
    "    f.write(json.dumps(theme_data))\n",
    "with open('batik-data/batik-themes.csv', 'w') as csvfile:\n",
    "    spamwriter = csv.writer(csvfile)\n",
    "    spamwriter.writerow([\"{} - {}\".format(i['place'], i['topic']) for i in theme_data])\n",
    "    for idx in range(0, 20):\n",
    "        spamwriter.writerow([i['top_themes'][idx]['name'] for i in theme_data if idx < len(i['top_themes'])])"
   ]
  },
  {
   "cell_type": "markdown",
   "metadata": {},
   "source": [
    "## Compute Climate Coverage Counts"
   ]
  },
  {
   "cell_type": "code",
   "execution_count": 260,
   "metadata": {},
   "outputs": [],
   "source": [
    "climate_data = []\n",
    "for p, m in places.items():\n",
    "    climate_story_count = mc.storyCount('{} AND (\"climate change\" OR \"global warming\") AND language:en AND tags_id_media:({})'.format(p,\" \".join(m)), solr_filter=timespan)\n",
    "    security_story_count = mc.storyCount('{} AND {} AND language:en AND tags_id_media:({})'.format(p,queries['security'],\" \".join(m)), solr_filter=timespan)\n",
    "    resilience_story_count = mc.storyCount('{} AND {} AND language:en AND tags_id_media:({})'.format(p,queries['resilience'],\" \".join(m)), solr_filter=timespan)\n",
    "    migration_story_count = mc.storyCount('{} AND {} AND language:en AND tags_id_media:({})'.format(p,queries['migration'],\" \".join(m)), solr_filter=timespan)\n",
    "    total_story_count = mc.storyCount(\"{} AND language:en AND tags_id_media:({})\".format(p,\" \".join(m)), solr_filter=timespan)\n",
    "    row = {\n",
    "        'place': p,\n",
    "        'security-stories': security_story_count['count'],\n",
    "        'resilience-stories': resilience_story_count['count'],\n",
    "        'migration-stories': migration_story_count['count'],\n",
    "        'climate-change-stories': climate_story_count['count'],\n",
    "        'total-stories': total_story_count['count'],\n",
    "    }\n",
    "    climate_data.append(row)"
   ]
  },
  {
   "cell_type": "code",
   "execution_count": 261,
   "metadata": {},
   "outputs": [],
   "source": [
    "import csv, json\n",
    "with open('batik-data/batik-climate-coverage.json', 'w') as f:\n",
    "    f.write(json.dumps(climate_data))\n",
    "with open('batik-data/batik-climate-coverage.csv', 'w') as csvfile:\n",
    "    spamwriter = csv.DictWriter(csvfile, fieldnames=[\"place\", \"security-stories\", \"resilience-stories\", \"migration-stories\", \"climate-change-stories\", \"total-stories\"])\n",
    "    spamwriter.writeheader()\n",
    "    for row in climate_data:\n",
    "        spamwriter.writerow(row)"
   ]
  },
  {
   "cell_type": "markdown",
   "metadata": {},
   "source": [
    "## Compute Climate Coverage Over Time"
   ]
  },
  {
   "cell_type": "code",
   "execution_count": 264,
   "metadata": {},
   "outputs": [],
   "source": [
    "climate_attention_data = []\n",
    "for p, m in places.items():\n",
    "    climate_story_count = mc.storyCount('{} AND (\"climate change\" OR \"global warming\") AND language:en AND tags_id_media:({})'.format(p,\" \".join(m)), solr_filter=timespan, split=True, split_period='week')\n",
    "    security_story_count = mc.storyCount('{} AND {} AND language:en AND tags_id_media:({})'.format(p,queries['security'],\" \".join(m)), solr_filter=timespan, split=True, split_period='week')\n",
    "    resilience_story_count = mc.storyCount('{} AND {} AND language:en AND tags_id_media:({})'.format(p,queries['resilience'],\" \".join(m)), solr_filter=timespan, split=True, split_period='week')\n",
    "    migration_story_count = mc.storyCount('{} AND {} AND language:en AND tags_id_media:({})'.format(p,queries['migration'],\" \".join(m)), solr_filter=timespan, split=True, split_period='week')\n",
    "    total_story_count = mc.storyCount(\"{} AND language:en AND tags_id_media:({})\".format(p,\" \".join(m)), solr_filter=timespan, split=True, split_period='week')\n",
    "    row = {\n",
    "        'place': p,\n",
    "        'security-stories': security_story_count,\n",
    "        'resilience-stories': resilience_story_count,\n",
    "        'migration-stories': migration_story_count,\n",
    "        'climate-change-stories': climate_story_count,\n",
    "        'total-stories': total_story_count,\n",
    "    }\n",
    "    climate_attention_data.append(row)"
   ]
  },
  {
   "cell_type": "code",
   "execution_count": 265,
   "metadata": {},
   "outputs": [],
   "source": [
    "import csv, json\n",
    "with open('batik-data/batik-climate-attention.json', 'w') as f:\n",
    "    f.write(json.dumps(climate_attention_data))\n"
   ]
  },
  {
   "cell_type": "markdown",
   "metadata": {},
   "source": [
    "## Top Words for each Pair"
   ]
  },
  {
   "cell_type": "code",
   "execution_count": 183,
   "metadata": {},
   "outputs": [],
   "source": [
    "word_data = []\n",
    "word_query = \"{} AND {} AND language:en AND tags_id_media:({})\"\n",
    "for p, m in places.items():\n",
    "    for t, q in queries.items():\n",
    "        top_words = mc.wordCount(word_query.format(p,q,\" \".join(m)), solr_filter=timespan)\n",
    "        item = {\n",
    "            'place': p,\n",
    "            'topic': t,\n",
    "            'top_words': [{'word': w['term'], 'freq': w['count']} for w in top_words if w['term'] not in [p.lower(), 'climate']]\n",
    "        }\n",
    "        word_data.append(item)"
   ]
  },
  {
   "cell_type": "code",
   "execution_count": 185,
   "metadata": {},
   "outputs": [],
   "source": [
    "import csv, json\n",
    "with open('batik-data/batik-words.json', 'w') as f:\n",
    "    f.write(json.dumps(word_data))\n",
    "with open('batik-data/batik-words.csv', 'w') as csvfile:\n",
    "    spamwriter = csv.writer(csvfile)\n",
    "    spamwriter.writerow([\"{} - {}\".format(i['place'], i['topic']) for i in word_data])\n",
    "    for idx in range(0, 40):\n",
    "        spamwriter.writerow([i['top_words'][idx]['word'] for i in word_data if idx < len(i['top_words'])])"
   ]
  },
  {
   "cell_type": "markdown",
   "metadata": {},
   "source": [
    "## Source Counts"
   ]
  },
  {
   "cell_type": "code",
   "execution_count": 188,
   "metadata": {},
   "outputs": [],
   "source": [
    "counts = []\n",
    "for p, m in places.items():\n",
    "    place_media_count = 0\n",
    "    for tags_id in m:\n",
    "        last_id = 0\n",
    "        media_count = 0\n",
    "        more_media = True\n",
    "        while more_media:\n",
    "            media_page = mc.mediaList(tags_id=tags_id, rows=100, last_media_id=last_id)\n",
    "            if len(media_page) == 0:\n",
    "                more_media = False\n",
    "            else:\n",
    "                media_count += len(media_page)\n",
    "                last_id = media_page[-1]['media_id']\n",
    "        place_media_count += media_count\n",
    "    item = {\n",
    "        'place': p,\n",
    "        'media_count': place_media_count,\n",
    "    }\n",
    "    counts.append(item)"
   ]
  },
  {
   "cell_type": "code",
   "execution_count": 189,
   "metadata": {},
   "outputs": [],
   "source": [
    "import csv, json\n",
    "with open('batik-data/batik-media-counts.json', 'w') as f:\n",
    "    f.write(json.dumps(counts))\n",
    "with open('batik-data/batik-media-counts.csv', 'w') as csvfile:\n",
    "    spamwriter = csv.DictWriter(csvfile, fieldnames=[\"place\", \"media_count\"])\n",
    "    spamwriter.writeheader()\n",
    "    for row in counts:\n",
    "        spamwriter.writerow(row)"
   ]
  },
  {
   "cell_type": "markdown",
   "metadata": {},
   "source": [
    "--------------\n",
    "## Write Summary Report"
   ]
  },
  {
   "cell_type": "code",
   "execution_count": 267,
   "metadata": {},
   "outputs": [],
   "source": [
    "# initialize report\n",
    "from yattag import Doc, indent\n",
    "import slug\n",
    "import json\n",
    "import plotly.express as px\n",
    "import pandas as pd \n",
    "with open('batik-data/batik-words.json') as f:\n",
    "    word_data = json.load(f)\n",
    "with open('batik-data/batik-media-counts.json', 'r') as f:\n",
    "    media_counts = json.load(f)\n",
    "with open('batik-data/batik-themes.json', 'r') as f:\n",
    "    theme_data = json.load(f)\n",
    "with open('batik-data/batik-climate-attention.json', 'r') as f:\n",
    "    attention_data = json.load(f)"
   ]
  },
  {
   "cell_type": "code",
   "execution_count": 279,
   "metadata": {},
   "outputs": [],
   "source": [
    "REGEN_CHARTS = True\n",
    "\n",
    "for p, m in places.items():\n",
    "    doc, tag, text = Doc().tagtext()\n",
    "    doc.asis('<!DOCTYPE html>')\n",
    "    place_name = p.replace('\"', '')\n",
    "    title = \"{}: Climate in the News\".format(place_name)\n",
    "    with tag('html', lang=\"en\"):\n",
    "        with tag('head'):\n",
    "            doc.stag('meta', charset=\"utf-8\")\n",
    "            doc.stag('meta', name=\"viewport\", content=\"width=device-width, initial-scale=1\")\n",
    "            doc.stag('link', rel=\"stylesheet\", href=\"https://stackpath.bootstrapcdn.com/bootstrap/4.4.1/css/bootstrap.min.css\", integrity=\"sha384-Vkoo8x4CGsO3+Hhxv8T/Q5PaXtkKtu6ug5TOeNV6gBiFeWPGFN9MuhOf23Q9Ifjh\", crossorigin=\"anonymous\")\n",
    "            doc.stag('link', rel=\"stylesheet\", href=\"report.css\")\n",
    "            with tag('script', src=\"https://ajax.googleapis.com/ajax/libs/jquery/3.4.1/jquery.min.js\"):\n",
    "                text()\n",
    "            with tag('script', src=\"https://code.highcharts.com/highcharts.js\"):\n",
    "                text()\n",
    "            with tag('script', src=\"https://code.highcharts.com/modules/wordcloud.js\"):\n",
    "                text()\n",
    "            with tag('script', src=\"report.js\"):\n",
    "                text()\n",
    "            with tag('title'):\n",
    "                text(title)\n",
    "        with tag('body'):\n",
    "            with tag('div', klass=\"container\"):\n",
    "                with tag('header'):\n",
    "                    with tag('div', klass=\"row\"):\n",
    "                        with tag('div', klass=\"col\"):\n",
    "                            with tag('h1'):\n",
    "                                text(title)\n",
    "                # total count summary\n",
    "                content = ''\n",
    "                place_media_count = int([r for r in media_counts if r['place'] == p][0]['media_count'])\n",
    "                content += \"Using the Media Cloud database, we searched English-language sources published in {}. We gathered all stories published in 2017, 2018, and 2019; {:n} stories in total.  \".format(\n",
    "                    place_name, place_media_count)\n",
    "                story_counts = {}\n",
    "                with open('batik-data/batik-climate-coverage.csv', 'r') as csvfile:\n",
    "                    dict_reader = csv.DictReader(csvfile)\n",
    "                    for row in dict_reader:\n",
    "                        if row['place'] == p:\n",
    "                            story_counts = row\n",
    "                    pct = int(story_counts['climate-change-stories']) / int(story_counts['total-stories'])\n",
    "                    content += 'This included {:n} total stories. {:.2%} mentioned \"climate change\" or \"global warming\" in some way ({:n} stories).'.format(\n",
    "                        int(story_counts['total-stories']), pct, int(story_counts['climate-change-stories']))\n",
    "                with tag('div', klass=\"row\"):\n",
    "                    with tag('div', klass=\"col\"):\n",
    "                        with tag('p', klass=\"lead\"):\n",
    "                            text(content)\n",
    "                    # climate story pie chart\n",
    "                    div_id = \"{}-climate-stories-chart\".format(slug.slug(place_name))\n",
    "                    with tag('div', klass=\"col\"):\n",
    "                        with tag('div', id=div_id, klass=\"piechart\"):\n",
    "                            text('')\n",
    "                        with tag('script'):\n",
    "                            data = [\n",
    "                                {'name': 'climate stories', 'y': int(story_counts['climate-change-stories']), 'color': '#300D28'},\n",
    "                                {'name': 'other stories', 'y': int(story_counts['total-stories'])-int(story_counts['climate-change-stories']), 'color': '#cccccc'},\n",
    "                            ]\n",
    "                            doc.asis('$(function() {{piechart(\"Climate Stories\", \"{}\", {}, 300)}})'.format(div_id, json.dumps(data)))\n",
    "                # attention over time chart\n",
    "                div_id = \"{}-climate-attention-chart\".format(slug.slug(place_name))\n",
    "                with tag('div', klass=\"row\"):\n",
    "                    with tag('div', klass=\"col\"):\n",
    "                        with tag('div', id=div_id, klass=\"linechart\"):\n",
    "                            with tag('script'):\n",
    "                                data = [r for r in attention_data if r['place'] == p][0]['climate-change-stories']['counts']\n",
    "                                data = [[solr_to_date(r['date']).timestamp()*1000, int(r['count'])] for r in data]\n",
    "                                doc.asis('$(function() {{linechart(\"Stories\", \"{}\", {}, 200)}})'.format(div_id, json.dumps(data)))\n",
    "                # story summary cards\n",
    "                with tag('div', klass=\"row\"):\n",
    "                    story_stat_card('resilience', story_counts)\n",
    "                    story_stat_card('security', story_counts)\n",
    "                    story_stat_card('migration', story_counts)\n",
    "                # theme sections\n",
    "                topic_section(p, 'resilience', story_counts)\n",
    "                topic_section(p, 'security', story_counts)\n",
    "                topic_section(p, 'migration', story_counts)\n",
    "\n",
    "    with open('reports/batik-report-{}.html'.format(slug.slug(place_name)), 'w') as f:\n",
    "        f.write(indent(doc.getvalue()))\n"
   ]
  },
  {
   "cell_type": "code",
   "execution_count": 272,
   "metadata": {},
   "outputs": [],
   "source": [
    "from datetime import datetime as dt\n",
    "SOLR_DATE_FORMAT = '%Y-%m-%d'\n",
    "def solr_to_date(date_str):\n",
    "    return dt.strptime(date_str[:10], SOLR_DATE_FORMAT)\n",
    "\n",
    "def story_stat_card(theme_name, story_counts):\n",
    "    theme_story_count = int(story_counts['{}-stories'.format(theme_name)])\n",
    "    climate_story_count = int(story_counts['climate-change-stories'])\n",
    "    with tag('div', klass=\"col\"):\n",
    "        with tag('div', klass='card stat'):\n",
    "            with tag('div', klass='card-body'):\n",
    "                with tag('h5', klass='card-title'):\n",
    "                    text(\"Climate & {}\".format(theme_name.capitalize()))\n",
    "                with tag('p', klass='card-text stat'):\n",
    "                    pct = theme_story_count / climate_story_count\n",
    "                    text(\"{:.0%}\".format(pct))\n",
    "                with tag('p', klass=\"card-subtitle text-muted\"):\n",
    "                    text('stories about climate change also mention {}'.format(theme_name))"
   ]
  },
  {
   "cell_type": "code",
   "execution_count": 278,
   "metadata": {},
   "outputs": [],
   "source": [
    "def topic_section(place_name, topic_name, story_counts):\n",
    "    topic_story_count = int(story_counts['{}-stories'.format(topic_name)])\n",
    "    climate_story_count = int(story_counts['climate-change-stories'])\n",
    "    # summary\n",
    "    with tag('div', klass=\"row\"):\n",
    "        with tag('div', klass=\"col\"):\n",
    "            with tag('h2'):\n",
    "                text('Climate and {}'.format(topic_name.capitalize()))\n",
    "            with tag('p', klass='lead'):\n",
    "                text('There were {:n} stories about climate and {}. This represents {:.2%} of the stories about climate in some way.'.format(\n",
    "                    topic_story_count,\n",
    "                    topic_name,\n",
    "                    topic_story_count/climate_story_count\n",
    "                ))\n",
    "    # attention over time chart\n",
    "    div_id = \"{}-{}-attention-chart\".format(slug.slug(place_name), topic_name)\n",
    "    with tag('div', klass=\"row\"):\n",
    "        with tag('div', klass=\"col\"):\n",
    "            with tag('div', id=div_id, klass=\"linechart\"):\n",
    "                with tag('script'):\n",
    "                    data = [r for r in attention_data if r['place'] == p][0]['{}-stories'.format(topic_name)]['counts']\n",
    "                    data = [[solr_to_date(r['date']).timestamp()*1000, int(r['count'])] for r in data]\n",
    "                    doc.asis('$(function() {{linechart(\"{} Stories\", \"{}\", {}, 200)}})'.format(topic_name.capitalize(), div_id, json.dumps(data)))\n",
    "    with tag('div', klass=\"row\"):\n",
    "        # word cloud\n",
    "        top_words = [d for d in word_data if (d['place'] == place_name) and (d['topic'] == topic_name)][0]['top_words']\n",
    "        top_words = [{'name': t['word'], 'weight': t['freq']} for t in top_words if t['word'] not in ['brazilian', topic_name]][:100]\n",
    "        with tag('div', klass=\"col\"):\n",
    "            with tag('h3'):\n",
    "                text('Top Words')\n",
    "            with tag('p', klass='headline'):\n",
    "                text('Here are the top 100 words used in articles about climate and {}.'.format(topic_name))\n",
    "            chart_id = \"{}-{}-top-words\".format(slug.slug(place_name), topic_name)\n",
    "            with tag('div', id=chart_id, klass=\"wordcloud\"):\n",
    "                text('')\n",
    "            with tag('script'):\n",
    "                doc.asis('$(function() {{wordcloud(\"{}\", {}, 300)}})'.format(\n",
    "                    chart_id, json.dumps(top_words)))\n",
    "        # top themes\n",
    "        top_themes = [d for d in theme_data if (d['place'] == place_name) and (d['topic'] == topic_name)][0]['top_themes'][:7]\n",
    "        with tag('div', klass=\"col\"):\n",
    "            with tag('h3'):\n",
    "                text('Top Themes')\n",
    "            with tag('p', klass='headline'):\n",
    "                text('Here are the top \"themes\" detected by our computational model in stories about climate and {}.'.format(topic_name))\n",
    "                with tag('table', klass='table'):\n",
    "                    with tag('thead'):\n",
    "                        with tag('tr'):\n",
    "                            with tag('th'):\n",
    "                                text('Theme')\n",
    "                            with tag('th'):\n",
    "                                text('Percent of Stories')\n",
    "                    with tag('tbody'):\n",
    "                        for theme in top_themes:\n",
    "                            with tag('tr'):\n",
    "                                with tag('td'):\n",
    "                                    text(theme['name'])\n",
    "                                with tag('td'):\n",
    "                                    text(\"{:.0%}\".format(int(theme['count'])/topic_story_count))\n",
    "        \n"
   ]
  },
  {
   "cell_type": "code",
   "execution_count": null,
   "metadata": {},
   "outputs": [],
   "source": []
  }
 ],
 "metadata": {
  "kernelspec": {
   "display_name": "Python 3",
   "language": "python",
   "name": "python3"
  },
  "language_info": {
   "codemirror_mode": {
    "name": "ipython",
    "version": 3
   },
   "file_extension": ".py",
   "mimetype": "text/x-python",
   "name": "python",
   "nbconvert_exporter": "python",
   "pygments_lexer": "ipython3",
   "version": "3.7.3"
  }
 },
 "nbformat": 4,
 "nbformat_minor": 4
}
